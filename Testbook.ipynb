{
 "cells": [
  {
   "cell_type": "code",
   "execution_count": 172,
   "metadata": {
    "collapsed": true
   },
   "outputs": [
    {
     "name": "stdout",
     "output_type": "stream",
     "text": [
      "[500, 495, 490, 485, 480, 475, 470, 465, 460, 455, 450, 445, 440, 435, 430, 425, 420, 415, 410, 405, 400, 395, 390, 385, 380, 375, 370, 365, 360, 355, 350, 345, 340, 335, 330, 325, 320, 315, 310, 305, 300, 295, 290, 285, 280, 275, 270, 265, 260, 255, 250, 245, 240, 235, 230, 225, 220, 215, 210, 205, 200, 195, 190, 185, 180, 175, 170, 165, 160, 155, 150, 145, 140, 135, 130, 125, 120, 115, 110, 105, 100, 95, 90, 85, 80, 75, 70, 65, 60, 55, 50, 45, 40, 35, 30, 25, 20, 15, 10, 5]\n<type 'list'>\n<type 'list'>\n<type 'generator'>\nlen\n"
     ]
    }
   ],
   "source": [
    "from random import choice\n",
    "a = [ i for i in range (1,501,1)]\n",
    "#print(a)\n",
    "a = [i for i in reversed(a)]\n",
    "print(a[0::5])\n",
    "print(type(a))\n",
    "print(type(a))\n",
    "a = (i for i in range(0,10))\n",
    "print(type(a))\n",
    "print(len.__name__)"
   ]
  },
  {
   "cell_type": "code",
   "execution_count": 102,
   "metadata": {},
   "outputs": [
    {
     "name": "stdout",
     "output_type": "stream",
     "text": [
      "5 substitution\n\t\t\naaa\t\n"
     ]
    },
    {
     "data": {
      "text/plain": [
       "\"'\\\\t\\\\t\\\\naaa\\\\t'\""
      ]
     },
     "execution_count": 102,
     "metadata": {},
     "output_type": "execute_result"
    }
   ],
   "source": [
    "print(\"%r substitution\")%(5)\n",
    "a = \"\\t\\t\\naaa\\t\"\n",
    "print(a)\n",
    "repr(a)"
   ]
  },
  {
   "cell_type": "code",
   "execution_count": 122,
   "metadata": {},
   "outputs": [
    {
     "name": "stdout",
     "output_type": "stream",
     "text": [
      "1+1>2+1>3\n(3, 0)\n('MalwareTextDB-1.0-experiments/code/Task5', 'Run2_info.txt')\n Accuracy |    99    \n"
     ]
    }
   ],
   "source": [
    "a = [(1,2,3)]\n",
    "print(\"%s+1>%s+1>%s\"%a[0])\n",
    "print(divmod(15,5))\n",
    "import os\n",
    "print(os.path.split(\"MalwareTextDB-1.0-experiments/code/Task5/Run2_info.txt\"))\n",
    "print_style  = '{:^10}|{:^10.2}'\n",
    "print(print_style.format(\"Accuracy\",\"99.99\"))"
   ]
  },
  {
   "cell_type": "code",
   "execution_count": 156,
   "metadata": {},
   "outputs": [
    {
     "name": "stdout",
     "output_type": "stream",
     "text": [
      "[Beer(Name='Heineken', Country='Germany')]\n"
     ]
    }
   ],
   "source": [
    "from collections import namedtuple\n",
    "Beer = namedtuple(\"Beer\",\"Name Country\")\n",
    "beer = []\n",
    "beer.append(Beer(\"Heineken\",\"Germany\"))\n",
    "print(beer)"
   ]
  },
  {
   "cell_type": "code",
   "execution_count": 217,
   "metadata": {},
   "outputs": [
    {
     "name": "stdout",
     "output_type": "stream",
     "text": [
      "[ 0  1  2  3  4  5  6  7  8  9 10 11 12 13 14 15 16 17 18 19 20 21 22 23 24]\n"
     ]
    },
    {
     "ename": "AttributeError",
     "evalue": "'module' object has no attribute 'perf_counter'",
     "traceback": [
      "\u001b[0;31m---------------------------------------------------------------------------\u001b[0m",
      "\u001b[0;31mAttributeError\u001b[0m                            Traceback (most recent call last)",
      "\u001b[0;32m<ipython-input-217-81a4f0b7f556>\u001b[0m in \u001b[0;36m<module>\u001b[0;34m()\u001b[0m\n\u001b[1;32m      3\u001b[0m \u001b[0ma\u001b[0m \u001b[1;33m=\u001b[0m \u001b[0mnumpy\u001b[0m\u001b[1;33m.\u001b[0m\u001b[0marange\u001b[0m\u001b[1;33m(\u001b[0m\u001b[1;36m25\u001b[0m\u001b[1;33m)\u001b[0m\u001b[1;33m\u001b[0m\u001b[0m\n\u001b[1;32m      4\u001b[0m \u001b[1;32mprint\u001b[0m\u001b[1;33m(\u001b[0m\u001b[0ma\u001b[0m\u001b[1;33m)\u001b[0m\u001b[1;33m\u001b[0m\u001b[0m\n\u001b[0;32m----> 5\u001b[0;31m \u001b[0mstart\u001b[0m \u001b[1;33m=\u001b[0m \u001b[0mtime\u001b[0m\u001b[1;33m.\u001b[0m\u001b[0mperf_counter\u001b[0m\u001b[1;33m(\u001b[0m\u001b[1;33m)\u001b[0m\u001b[1;33m\u001b[0m\u001b[0m\n\u001b[0m\u001b[1;32m      6\u001b[0m \u001b[0mstart2\u001b[0m \u001b[1;33m=\u001b[0m \u001b[0mtime\u001b[0m\u001b[1;33m(\u001b[0m\u001b[1;33m)\u001b[0m\u001b[1;33m\u001b[0m\u001b[0m\n\u001b[1;32m      7\u001b[0m \u001b[0ma\u001b[0m\u001b[1;33m.\u001b[0m\u001b[0mshape\u001b[0m \u001b[1;33m=\u001b[0m \u001b[1;36m5\u001b[0m\u001b[1;33m,\u001b[0m \u001b[1;36m5\u001b[0m\u001b[1;33m;\u001b[0m \u001b[1;32mprint\u001b[0m\u001b[1;33m(\u001b[0m\u001b[0ma\u001b[0m\u001b[1;33m)\u001b[0m\u001b[1;33m;\u001b[0m \u001b[0ma\u001b[0m\u001b[1;33m.\u001b[0m\u001b[0mshape\u001b[0m \u001b[1;33m=\u001b[0m \u001b[1;36m25\u001b[0m\u001b[1;33m;\u001b[0m \u001b[1;32mprint\u001b[0m\u001b[1;33m(\u001b[0m\u001b[0ma\u001b[0m\u001b[1;33m)\u001b[0m\u001b[1;33m;\u001b[0m \u001b[0ma\u001b[0m\u001b[1;33m.\u001b[0m\u001b[0mshape\u001b[0m \u001b[1;33m=\u001b[0m \u001b[1;36m5\u001b[0m\u001b[1;33m,\u001b[0m\u001b[1;36m5\u001b[0m\u001b[1;33m;\u001b[0m \u001b[1;32mprint\u001b[0m\u001b[1;33m(\u001b[0m\u001b[0ma\u001b[0m\u001b[1;33m[\u001b[0m\u001b[1;36m4\u001b[0m\u001b[1;33m:\u001b[0m\u001b[1;36m5\u001b[0m\u001b[1;33m,\u001b[0m\u001b[1;36m4\u001b[0m\u001b[1;33m]\u001b[0m\u001b[1;33m)\u001b[0m\u001b[1;33m\u001b[0m\u001b[0m\n",
      "\u001b[0;31mAttributeError\u001b[0m: 'module' object has no attribute 'perf_counter'"
     ],
     "output_type": "error"
    }
   ],
   "source": [
    "import numpy\n",
    "import time\n",
    "a = numpy.arange(25)\n",
    "print(a)\n",
    "start = time.perf_counter()\n",
    "start2 = time()\n",
    "a.shape = 5, 5; print(a); a.shape = 25; print(a); a.shape = 5,5; print(a[4:5,4])\n",
    "end = time.perf_counter()-start\n",
    "end2= time()-start\n",
    "print(end,end2)"
   ]
  },
  {
   "cell_type": "code",
   "execution_count": 189,
   "metadata": {},
   "outputs": [
    {
     "name": "stdout",
     "output_type": "stream",
     "text": [
      "[('F', 54), ('E', 14), ('D', 11), ('C', 6), ('B', 12), ('A', 3)]\n"
     ]
    }
   ],
   "source": [
    "from bisect import bisect\n",
    "from random import choice\n",
    "from nltk import FreqDist\n",
    "scores = [choice(range(0,100)) for i in range(0,100)]\n",
    "\n",
    "def grade(scores,breakpoints=[50,60,70,80,95],grades='FEDCBA'):\n",
    "    grade_scores = []\n",
    "    for entry in scores:\n",
    "        segment = bisect(breakpoints,entry)\n",
    "        grade_scores.append(grades[segment])\n",
    "    return grade_scores\n",
    "\n",
    "fd = FreqDist(grade(scores))\n",
    "print(sorted(fd.most_common(10),reverse=True,key=lambda x:x[0]))"
   ]
  }
 ],
 "metadata": {
  "kernelspec": {
   "display_name": "Python 2",
   "language": "python",
   "name": "python2"
  },
  "language_info": {
   "codemirror_mode": {
    "name": "ipython",
    "version": 2.0
   },
   "file_extension": ".py",
   "mimetype": "text/x-python",
   "name": "python",
   "nbconvert_exporter": "python",
   "pygments_lexer": "ipython2",
   "version": "2.7.6"
  }
 },
 "nbformat": 4,
 "nbformat_minor": 0
}